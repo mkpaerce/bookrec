{
 "cells": [
  {
   "cell_type": "code",
   "execution_count": 1,
   "id": "cd4dc871-147f-4ed3-b7f5-f1f452f786ee",
   "metadata": {},
   "outputs": [],
   "source": [
    "import pandas as pd\n",
    "import os\n",
    "import random\n",
    "import re\n",
    "from bs4 import BeautifulSoup\n",
    "\n",
    "\n",
    "import time\n",
    "from getpass import getpass \n",
    "from selenium import webdriver\n",
    "from selenium.webdriver.chrome.service import Service\n",
    "from selenium.webdriver.common.by import By\n",
    "from webdriver_manager.chrome import ChromeDriverManager\n",
    "from selenium.common.exceptions import NoSuchElementException, ElementClickInterceptedException\n",
    "import pathlib"
   ]
  },
  {
   "cell_type": "code",
   "execution_count": 3,
   "id": "b384c3e6-cc72-4061-9d72-e561dd0d16d9",
   "metadata": {},
   "outputs": [],
   "source": [
    "pd.set_option('display.max_columns', None) \n",
    "import warnings\n",
    "warnings.filterwarnings('ignore') "
   ]
  },
  {
   "cell_type": "code",
   "execution_count": 5,
   "id": "22cd1883-591b-43d0-8e3b-9e0283429fe7",
   "metadata": {},
   "outputs": [
    {
     "ename": "WebDriverException",
     "evalue": "Message: Service /Users/mike/.wdm/drivers/chromedriver/mac64/134.0.6998.88/chromedriver-mac-arm64/chromedriver unexpectedly exited. Status code was: -9\n",
     "output_type": "error",
     "traceback": [
      "\u001b[0;31m---------------------------------------------------------------------------\u001b[0m",
      "\u001b[0;31mWebDriverException\u001b[0m                        Traceback (most recent call last)",
      "Cell \u001b[0;32mIn[5], line 1\u001b[0m\n\u001b[0;32m----> 1\u001b[0m driver \u001b[38;5;241m=\u001b[39m webdriver\u001b[38;5;241m.\u001b[39mChrome(service\u001b[38;5;241m=\u001b[39mService(ChromeDriverManager()\u001b[38;5;241m.\u001b[39minstall()))\n",
      "File \u001b[0;32m/opt/anaconda3/lib/python3.12/site-packages/selenium/webdriver/chrome/webdriver.py:45\u001b[0m, in \u001b[0;36mWebDriver.__init__\u001b[0;34m(self, options, service, keep_alive)\u001b[0m\n\u001b[1;32m     42\u001b[0m service \u001b[38;5;241m=\u001b[39m service \u001b[38;5;28;01mif\u001b[39;00m service \u001b[38;5;28;01melse\u001b[39;00m Service()\n\u001b[1;32m     43\u001b[0m options \u001b[38;5;241m=\u001b[39m options \u001b[38;5;28;01mif\u001b[39;00m options \u001b[38;5;28;01melse\u001b[39;00m Options()\n\u001b[0;32m---> 45\u001b[0m \u001b[38;5;28msuper\u001b[39m()\u001b[38;5;241m.\u001b[39m\u001b[38;5;21m__init__\u001b[39m(\n\u001b[1;32m     46\u001b[0m     browser_name\u001b[38;5;241m=\u001b[39mDesiredCapabilities\u001b[38;5;241m.\u001b[39mCHROME[\u001b[38;5;124m\"\u001b[39m\u001b[38;5;124mbrowserName\u001b[39m\u001b[38;5;124m\"\u001b[39m],\n\u001b[1;32m     47\u001b[0m     vendor_prefix\u001b[38;5;241m=\u001b[39m\u001b[38;5;124m\"\u001b[39m\u001b[38;5;124mgoog\u001b[39m\u001b[38;5;124m\"\u001b[39m,\n\u001b[1;32m     48\u001b[0m     options\u001b[38;5;241m=\u001b[39moptions,\n\u001b[1;32m     49\u001b[0m     service\u001b[38;5;241m=\u001b[39mservice,\n\u001b[1;32m     50\u001b[0m     keep_alive\u001b[38;5;241m=\u001b[39mkeep_alive,\n\u001b[1;32m     51\u001b[0m )\n",
      "File \u001b[0;32m/opt/anaconda3/lib/python3.12/site-packages/selenium/webdriver/chromium/webdriver.py:55\u001b[0m, in \u001b[0;36mChromiumDriver.__init__\u001b[0;34m(self, browser_name, vendor_prefix, options, service, keep_alive)\u001b[0m\n\u001b[1;32m     52\u001b[0m     options\u001b[38;5;241m.\u001b[39mbrowser_version \u001b[38;5;241m=\u001b[39m \u001b[38;5;28;01mNone\u001b[39;00m\n\u001b[1;32m     54\u001b[0m \u001b[38;5;28mself\u001b[39m\u001b[38;5;241m.\u001b[39mservice\u001b[38;5;241m.\u001b[39mpath \u001b[38;5;241m=\u001b[39m \u001b[38;5;28mself\u001b[39m\u001b[38;5;241m.\u001b[39mservice\u001b[38;5;241m.\u001b[39menv_path() \u001b[38;5;129;01mor\u001b[39;00m finder\u001b[38;5;241m.\u001b[39mget_driver_path()\n\u001b[0;32m---> 55\u001b[0m \u001b[38;5;28mself\u001b[39m\u001b[38;5;241m.\u001b[39mservice\u001b[38;5;241m.\u001b[39mstart()\n\u001b[1;32m     57\u001b[0m executor \u001b[38;5;241m=\u001b[39m ChromiumRemoteConnection(\n\u001b[1;32m     58\u001b[0m     remote_server_addr\u001b[38;5;241m=\u001b[39m\u001b[38;5;28mself\u001b[39m\u001b[38;5;241m.\u001b[39mservice\u001b[38;5;241m.\u001b[39mservice_url,\n\u001b[1;32m     59\u001b[0m     browser_name\u001b[38;5;241m=\u001b[39mbrowser_name,\n\u001b[0;32m   (...)\u001b[0m\n\u001b[1;32m     62\u001b[0m     ignore_proxy\u001b[38;5;241m=\u001b[39moptions\u001b[38;5;241m.\u001b[39m_ignore_local_proxy,\n\u001b[1;32m     63\u001b[0m )\n\u001b[1;32m     65\u001b[0m \u001b[38;5;28;01mtry\u001b[39;00m:\n",
      "File \u001b[0;32m/opt/anaconda3/lib/python3.12/site-packages/selenium/webdriver/common/service.py:113\u001b[0m, in \u001b[0;36mService.start\u001b[0;34m(self)\u001b[0m\n\u001b[1;32m    111\u001b[0m count \u001b[38;5;241m=\u001b[39m \u001b[38;5;241m0\u001b[39m\n\u001b[1;32m    112\u001b[0m \u001b[38;5;28;01mwhile\u001b[39;00m \u001b[38;5;28;01mTrue\u001b[39;00m:\n\u001b[0;32m--> 113\u001b[0m     \u001b[38;5;28mself\u001b[39m\u001b[38;5;241m.\u001b[39massert_process_still_running()\n\u001b[1;32m    114\u001b[0m     \u001b[38;5;28;01mif\u001b[39;00m \u001b[38;5;28mself\u001b[39m\u001b[38;5;241m.\u001b[39mis_connectable():\n\u001b[1;32m    115\u001b[0m         \u001b[38;5;28;01mbreak\u001b[39;00m\n",
      "File \u001b[0;32m/opt/anaconda3/lib/python3.12/site-packages/selenium/webdriver/common/service.py:126\u001b[0m, in \u001b[0;36mService.assert_process_still_running\u001b[0;34m(self)\u001b[0m\n\u001b[1;32m    124\u001b[0m return_code \u001b[38;5;241m=\u001b[39m \u001b[38;5;28mself\u001b[39m\u001b[38;5;241m.\u001b[39mprocess\u001b[38;5;241m.\u001b[39mpoll()\n\u001b[1;32m    125\u001b[0m \u001b[38;5;28;01mif\u001b[39;00m return_code:\n\u001b[0;32m--> 126\u001b[0m     \u001b[38;5;28;01mraise\u001b[39;00m WebDriverException(\u001b[38;5;124mf\u001b[39m\u001b[38;5;124m\"\u001b[39m\u001b[38;5;124mService \u001b[39m\u001b[38;5;132;01m{\u001b[39;00m\u001b[38;5;28mself\u001b[39m\u001b[38;5;241m.\u001b[39m_path\u001b[38;5;132;01m}\u001b[39;00m\u001b[38;5;124m unexpectedly exited. Status code was: \u001b[39m\u001b[38;5;132;01m{\u001b[39;00mreturn_code\u001b[38;5;132;01m}\u001b[39;00m\u001b[38;5;124m\"\u001b[39m)\n",
      "\u001b[0;31mWebDriverException\u001b[0m: Message: Service /Users/mike/.wdm/drivers/chromedriver/mac64/134.0.6998.88/chromedriver-mac-arm64/chromedriver unexpectedly exited. Status code was: -9\n"
     ]
    }
   ],
   "source": [
    "driver = webdriver.Chrome(service=Service(ChromeDriverManager().install()))"
   ]
  },
  {
   "cell_type": "code",
   "execution_count": null,
   "id": "278ba2c4-c665-445d-b33c-96317bd9c88e",
   "metadata": {},
   "outputs": [],
   "source": [
    "# open the website\n",
    "driver.get('https://www.goodreads.com/user/sign_in')"
   ]
  },
  {
   "cell_type": "code",
   "execution_count": null,
   "id": "c3572f08-c908-4e14-b5a4-9f767465270b",
   "metadata": {},
   "outputs": [],
   "source": [
    "# Find and click on the log-in button\n",
    "login = driver.find_element(By.CLASS_NAME, 'third_party_sign_in')\n",
    "login.click()\n",
    "time.sleep(random.random() * 3)"
   ]
  },
  {
   "cell_type": "code",
   "execution_count": null,
   "id": "18469147-2808-44ce-af12-bd12c5edede9",
   "metadata": {},
   "outputs": [],
   "source": [
    "# Add email\n",
    "email = input('Enter your email: ')\n",
    "\n",
    "# Find email box\n",
    "email_box = driver.find_element(By.ID, \"ap_email\")\n",
    "\n",
    "# Clear email box\n",
    "email_box.clear()\n",
    "\n",
    "# Input password into browser\n",
    "email_box.send_keys(email)\n",
    "\n",
    "# Add sleeping time to mimic human behaviour\n",
    "time.sleep(random.random() * 3)"
   ]
  },
  {
   "cell_type": "code",
   "execution_count": null,
   "id": "0da11f60-aa12-4d5e-a2b3-a97af1cfc736",
   "metadata": {},
   "outputs": [],
   "source": [
    "# Add password\n",
    "password = getpass.getpass('Enter your password: ')\n",
    "\n",
    "# Find password box\n",
    "pass_box = driver.find_element(By.ID, \"ap_password\")\n",
    "\n",
    "# Clear password box\n",
    "pass_box.clear()\n",
    "\n",
    "# Input password into browser\n",
    "pass_box.send_keys(password)\n",
    "\n",
    "# Add sleeping time to mimic human behaviour\n",
    "time.sleep(random.random() * 3)"
   ]
  },
  {
   "cell_type": "code",
   "execution_count": null,
   "id": "f041d98e-6d2f-414b-b942-1ee6498d9683",
   "metadata": {},
   "outputs": [],
   "source": [
    "# Add exception handling\n",
    "try:\n",
    "    login = driver.find_element(By.CLASS_NAME, 'login__form_action_container')\n",
    "    login.click()\n",
    "    time.sleep(random.random() * 3)\n",
    "except NoSuchElementException:\n",
    "    print(\"Log-in already done!\")\n",
    "except Exception as e:\n",
    "    print(repr(e))"
   ]
  },
  {
   "cell_type": "code",
   "execution_count": null,
   "id": "7f652370-3406-4793-9107-a0e95b10bdf1",
   "metadata": {},
   "outputs": [],
   "source": [
    "# Open the explore page\n",
    "\n",
    "driver.get('https://www.goodreads.com/explore')"
   ]
  },
  {
   "cell_type": "code",
   "execution_count": null,
   "id": "1f802dbc-446f-4c6a-a767-debeae11eea7",
   "metadata": {},
   "outputs": [],
   "source": [
    "# Maximize the window\n",
    "\n",
    "driver.maximize_window()"
   ]
  },
  {
   "cell_type": "code",
   "execution_count": null,
   "id": "0fe7f498-c9f5-425f-bf3c-eb0984c4f8b2",
   "metadata": {},
   "outputs": [],
   "source": [
    "# Check if the source code contains the books\n",
    "\n",
    "html = driver.page_source\n",
    "soup = BeautifulSoup(html)\n",
    "soup.find_all(attrs={'class': re.compile(r'Carousel')})"
   ]
  },
  {
   "cell_type": "code",
   "execution_count": null,
   "id": "62303016-bece-463d-bc56-11aafcfca459",
   "metadata": {},
   "outputs": [],
   "source": []
  },
  {
   "cell_type": "code",
   "execution_count": null,
   "id": "6ff782ff-446a-4ed4-85bd-558990310597",
   "metadata": {},
   "outputs": [],
   "source": []
  },
  {
   "cell_type": "code",
   "execution_count": null,
   "id": "026698cf-d4a8-4f67-87bd-ea191066ff6d",
   "metadata": {},
   "outputs": [],
   "source": []
  },
  {
   "cell_type": "code",
   "execution_count": null,
   "id": "0b5c758b-3ca8-40b3-bc1b-45e89250b778",
   "metadata": {},
   "outputs": [],
   "source": []
  },
  {
   "cell_type": "code",
   "execution_count": null,
   "id": "dfdbed6f-3269-46c7-a02d-a70b33902e6e",
   "metadata": {},
   "outputs": [],
   "source": []
  },
  {
   "cell_type": "code",
   "execution_count": null,
   "id": "0130bba9-26eb-460e-a165-4f95c6eca074",
   "metadata": {},
   "outputs": [],
   "source": [
    "#Open Browse\n",
    "\n",
    "browse = driver.find_element(By.CSS_SELECTOR, \"span[title='Jobs']\")\n",
    "browse.click()\n",
    "time.sleep(random.random() * 3)"
   ]
  },
  {
   "cell_type": "code",
   "execution_count": null,
   "id": "7a995406-f902-4a57-bb98-310a22c9362d",
   "metadata": {},
   "outputs": [],
   "source": [
    "#Click Explore\n",
    "\n",
    "explore = driver.find_element(By.CSS_SELECTOR, \"span[title='Jobs']\")\n",
    "explore.click()\n",
    "time.sleep(random.random() * 3)"
   ]
  }
 ],
 "metadata": {
  "kernelspec": {
   "display_name": "Python [conda env:base] *",
   "language": "python",
   "name": "conda-base-py"
  },
  "language_info": {
   "codemirror_mode": {
    "name": "ipython",
    "version": 3
   },
   "file_extension": ".py",
   "mimetype": "text/x-python",
   "name": "python",
   "nbconvert_exporter": "python",
   "pygments_lexer": "ipython3",
   "version": "3.12.2"
  }
 },
 "nbformat": 4,
 "nbformat_minor": 5
}
