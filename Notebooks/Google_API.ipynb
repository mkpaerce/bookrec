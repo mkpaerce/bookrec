{
 "cells": [
  {
   "cell_type": "code",
   "execution_count": 4,
   "id": "5ea18b7c-96ee-427a-9186-4cbe8129f746",
   "metadata": {},
   "outputs": [],
   "source": [
    "import os\n",
    "from dotenv import load_dotenv\n",
    "import requests\n",
    "import json\n",
    "from IPython.display import display, HTML, Markdown"
   ]
  },
  {
   "cell_type": "code",
   "execution_count": 6,
   "id": "8c83b992-a728-4e10-a482-d9cab600685d",
   "metadata": {},
   "outputs": [
    {
     "name": "stdout",
     "output_type": "stream",
     "text": [
      "Fetching books for genre: mystery\n",
      "Fetched 200 books for genre: mystery\n",
      "Fetching books for genre: fantasy\n",
      "Fetched 160 books for genre: fantasy\n",
      "Fetching books for genre: science fiction\n",
      "Fetched 320 books for genre: science fiction\n",
      "Fetching books for genre: romance\n",
      "Fetched 200 books for genre: romance\n",
      "Fetching books for genre: historical fiction\n",
      "Fetched 160 books for genre: historical fiction\n",
      "Fetching books for genre: true crime\n",
      "Fetched 1 books for genre: true crime\n",
      "mystery: 200 books fetched\n",
      "fantasy: 160 books fetched\n",
      "science fiction: 320 books fetched\n",
      "romance: 200 books fetched\n",
      "historical fiction: 160 books fetched\n",
      "true crime: 1 books fetched\n"
     ]
    }
   ],
   "source": [
    "load_dotenv()\n",
    "KEY = os.getenv(\"GOOGLE_BOOKS_API_KEY\")\n",
    "BASE_URL = \"https://www.googleapis.com/books/v1/volumes\"\n",
    "\n",
    "# Define the genres and other parameters\n",
    "GENRES = ['mystery', 'fantasy', 'science fiction', 'romance', 'historical fiction', 'true crime']\n",
    "RESULTS_PER_PAGE = 40  # Maximum allowed per request\n",
    "MAX_BOOKS = 700        # Maximum books to fetch per genre\n",
    "\n",
    "def fetch_books_for_genre(genre, max_books=500):\n",
    "    \"\"\"Fetches up to `max_books` newest books for a given genre.\"\"\"\n",
    "    books = []\n",
    "    start_index = 0\n",
    "    while start_index < max_books:\n",
    "        params = {\n",
    "            'q': f\"subject:{genre}\",\n",
    "            'orderBy': 'newest',\n",
    "            'startIndex': start_index,\n",
    "            'maxResults': RESULTS_PER_PAGE,\n",
    "            'key': KEY\n",
    "        }\n",
    "        response = requests.get(BASE_URL, params=params)\n",
    "        if response.status_code != 200:\n",
    "            print(f\"Error fetching data for {genre} at index {start_index}: {response.status_code}\")\n",
    "            break\n",
    "        data = response.json()\n",
    "        # If no 'items' in the response, then no more results are available.\n",
    "        if 'items' not in data:\n",
    "            break\n",
    "        items = data['items']\n",
    "        books.extend(items)\n",
    "        # If fewer results than requested are returned, we've reached the end.\n",
    "        if len(items) < RESULTS_PER_PAGE:\n",
    "            break\n",
    "        start_index += RESULTS_PER_PAGE\n",
    "    return books[:max_books]\n",
    "\n",
    "def main():\n",
    "    all_genre_books = {}\n",
    "    for genre in GENRES:\n",
    "        print(f\"Fetching books for genre: {genre}\")\n",
    "        books = fetch_books_for_genre(genre, MAX_BOOKS)\n",
    "        print(f\"Fetched {len(books)} books for genre: {genre}\")\n",
    "        all_genre_books[genre] = books\n",
    "\n",
    "    # Optionally, save the results to a JSON file\n",
    "    with open('books_by_genre.json', 'w', encoding='utf-8') as f:\n",
    "        json.dump(all_genre_books, f, ensure_ascii=False, indent=4)\n",
    "    \n",
    "    # Print summary counts per genre\n",
    "    for genre, books in all_genre_books.items():\n",
    "        print(f\"{genre}: {len(books)} books fetched\")\n",
    "\n",
    "if __name__ == '__main__':\n",
    "    main()"
   ]
  },
  {
   "cell_type": "code",
   "execution_count": 7,
   "id": "7b42ce41-e49a-4365-8099-4191f3adf1c0",
   "metadata": {},
   "outputs": [
    {
     "name": "stdout",
     "output_type": "stream",
     "text": [
      "Books data saved to books.csv\n"
     ]
    }
   ],
   "source": [
    "with open('books_by_genre.json', 'r', encoding='utf-8') as f:\n",
    "    all_genre_books = json.load(f)\n",
    "\n",
    "save_books_to_csv(all_genre_books, filename='Googlebooks.csv')\n"
   ]
  },
  {
   "cell_type": "code",
   "execution_count": null,
   "id": "f93e72cf-7501-4f43-8807-89a8b70470d0",
   "metadata": {},
   "outputs": [],
   "source": []
  }
 ],
 "metadata": {
  "kernelspec": {
   "display_name": "Python [conda env:base] *",
   "language": "python",
   "name": "conda-base-py"
  },
  "language_info": {
   "codemirror_mode": {
    "name": "ipython",
    "version": 3
   },
   "file_extension": ".py",
   "mimetype": "text/x-python",
   "name": "python",
   "nbconvert_exporter": "python",
   "pygments_lexer": "ipython3",
   "version": "3.12.2"
  }
 },
 "nbformat": 4,
 "nbformat_minor": 5
}
