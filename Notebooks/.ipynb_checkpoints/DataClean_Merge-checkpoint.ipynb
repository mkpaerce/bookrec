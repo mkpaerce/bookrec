{
 "cells": [
  {
   "cell_type": "code",
   "execution_count": null,
   "id": "8c95df28-64a0-491a-9f5d-cc291942d20d",
   "metadata": {},
   "outputs": [],
   "source": [
    "import pandas as pd\n",
    "import numpy as np\n",
    "import re"
   ]
  },
  {
   "cell_type": "code",
   "execution_count": null,
   "id": "72bbbb3b-4b14-48ad-b7b9-b45ec48ae950",
   "metadata": {},
   "outputs": [],
   "source": [
    "df = pd.read_csv(\"../Data/Raw/GoodReads_500.csv\")\n",
    "df_api = pd.read_csv(\"../Data/Raw/Googlebooks.csv\")"
   ]
  },
  {
   "cell_type": "markdown",
   "id": "5bca73cd-93c4-45a2-8c4e-c3f522668ba3",
   "metadata": {},
   "source": [
    "# 1. Cleaning GoodReads Scraped Data "
   ]
  },
  {
   "cell_type": "code",
   "execution_count": null,
   "id": "5ec1adac-89f8-436b-afea-c46c134934a9",
   "metadata": {},
   "outputs": [],
   "source": [
    "df.head(3)"
   ]
  },
  {
   "cell_type": "code",
   "execution_count": null,
   "id": "ff42410a-7caa-43cd-9f7f-5f4e384a4c1b",
   "metadata": {},
   "outputs": [],
   "source": [
    "# 1. Check for missing/null values in key columns and flag these rows for manual review.\n",
    "#    Create a new column 'Review_Flag' that indicates if any key field is missing.\n",
    "key_columns = ['Title', 'Author', 'Avg_Rating', 'Genres']\n",
    "df['Review_Flag'] = df[key_columns].isnull().any(axis=1)\n",
    "\n",
    "missing_key_col = df[df['Review_Flag']]"
   ]
  },
  {
   "cell_type": "code",
   "execution_count": null,
   "id": "ed623295-9d91-4283-a7dd-da813044b35e",
   "metadata": {},
   "outputs": [],
   "source": [
    "# 2. Remove duplicate rows. (Assuming duplicate rows have the same values in all columns.)\n",
    "df.drop_duplicates(inplace=True)"
   ]
  },
  {
   "cell_type": "code",
   "execution_count": null,
   "id": "47bf55f0-f018-49c3-8d8f-1bc728824cc6",
   "metadata": {},
   "outputs": [],
   "source": [
    "# Function to extract text within parentheses and store it in the Series column.\n",
    "def extract_series(title):\n",
    "    # This regex captures text between '(' and ')'\n",
    "    match = re.search(r'\\((.*?)\\)', title)\n",
    "    if match:\n",
    "        return match.group(1).strip()\n",
    "    return ''\n",
    "\n",
    "# Function to remove the parentheses and their contents from the title.\n",
    "def clean_title(title):\n",
    "    return re.sub(r'\\s*\\(.*?\\)', '', title).strip()\n",
    "\n",
    "# Create the Series column from the Title column.\n",
    "df['Series'] = df['Title'].apply(extract_series)\n",
    "# Clean the Title column by removing the extracted text.\n",
    "df['Title'] = df['Title'].apply(clean_title)"
   ]
  },
  {
   "cell_type": "code",
   "execution_count": null,
   "id": "b7872619-668c-41da-97c1-1536960548a3",
   "metadata": {},
   "outputs": [],
   "source": [
    "# 4. Split the 'Format_And_Page' column into 'Page_Number' and 'Format'\n",
    "#    Example formats: \"232 pages, paperback\" or \"232, paperback\". We'll extract digits as page number and the rest as format.\n",
    "def split_format_and_page(text):\n",
    "    # Ensure the text is a string (handle missing or non-string data)\n",
    "    if pd.isnull(text):\n",
    "        return pd.NA, pd.NA\n",
    "    # Extract page number (digits)\n",
    "    page_match = re.search(r'(\\d+)', text)\n",
    "    page_number = page_match.group(1) if page_match else pd.NA\n",
    "    # Remove the page number and non-alpha characters at the beginning to extract the format.\n",
    "    # This approach assumes that after the number there is some text indicating format.\n",
    "    format_text = re.sub(r'\\d+', '', text)\n",
    "    # Remove common words like \"pages\" and punctuation\n",
    "    format_text = re.sub(r'pages?', '', format_text, flags=re.IGNORECASE)\n",
    "    format_text = format_text.replace(',', '').strip()\n",
    "    return page_number, format_text\n",
    "\n",
    "df[['Page_Number', 'Format']] = df['Format_and_Page'].apply(lambda x: pd.Series(split_format_and_page(x)))\n"
   ]
  },
  {
   "cell_type": "code",
   "execution_count": null,
   "id": "2128da87-a6d2-4422-859a-c2c9825fcea0",
   "metadata": {
    "scrolled": true
   },
   "outputs": [],
   "source": [
    "df.head()"
   ]
  },
  {
   "cell_type": "code",
   "execution_count": null,
   "id": "ae832ad5-e116-43bd-a806-e33938ad1101",
   "metadata": {},
   "outputs": [],
   "source": [
    "# 5. Clean the 'Genres' column: Remove newline characters and ensure they are comma-separated.\n",
    "df['Genres'] = df['Genres'].astype(str).replace(r'\\n', ', ', regex=True).str.strip()"
   ]
  },
  {
   "cell_type": "code",
   "execution_count": null,
   "id": "8cbb5164-bb03-4648-8e80-03d21ed88d4a",
   "metadata": {},
   "outputs": [],
   "source": [
    "df = df.drop(['Unnamed: 0', 'Format_and_Page', 'Review_Flag'], axis=1)"
   ]
  },
  {
   "cell_type": "code",
   "execution_count": null,
   "id": "7d6abf7a-58bb-46c9-8c7e-efacc1e7d00d",
   "metadata": {},
   "outputs": [],
   "source": [
    "#Casting avg rating to float and page number to integer\n",
    "df['Avg_Rating'] = pd.to_numeric(df['Avg_Rating'], errors='coerce')\n",
    "df['Page_Number'] = pd.to_numeric(df['Page_Number'], errors='coerce').astype('Int64')"
   ]
  },
  {
   "cell_type": "code",
   "execution_count": null,
   "id": "735db1d1-6538-4460-99da-f35042f21d92",
   "metadata": {},
   "outputs": [],
   "source": [
    "df.info()"
   ]
  },
  {
   "cell_type": "markdown",
   "id": "79179a98-ae46-4154-967e-f647d83e16ad",
   "metadata": {},
   "source": [
    "# 2. Cleaning Google API Data"
   ]
  },
  {
   "cell_type": "code",
   "execution_count": null,
   "id": "1ec8f65a-caaf-4f84-8f89-0195fc4e3987",
   "metadata": {},
   "outputs": [],
   "source": [
    "df_api.head()"
   ]
  },
  {
   "cell_type": "code",
   "execution_count": null,
   "id": "08c922f3-cba7-4447-bb48-d1060acc88b7",
   "metadata": {},
   "outputs": [],
   "source": [
    "# 1. Check for missing/null values in key columns and flag these rows for manual review.\n",
    "#    Create a new column 'Review_Flag' that indicates if any key field is missing.\n",
    "key_columns = ['Book Title', 'Authors', 'Genres']\n",
    "df_api['Review_Flag'] = df_api[key_columns].isnull().any(axis=1)\n",
    "\n",
    "missing_key_col = df_api[df_api['Review_Flag']]\n",
    "\n",
    "df_api = df_api[df_api['Review_Flag'] == False]\n"
   ]
  },
  {
   "cell_type": "code",
   "execution_count": null,
   "id": "db4a0825-707e-4101-8463-230c13e568a6",
   "metadata": {},
   "outputs": [],
   "source": [
    "# 2. Remove books with less than 20 pages\n",
    "\n",
    "df_api = df_api[df_api['Number of Pages'] >= 20]\n"
   ]
  },
  {
   "cell_type": "code",
   "execution_count": null,
   "id": "dfa15b93-b08a-4086-a510-0cba7fa63897",
   "metadata": {},
   "outputs": [],
   "source": [
    "df_api.info()"
   ]
  },
  {
   "cell_type": "code",
   "execution_count": null,
   "id": "3868374d-a8bf-46da-8f97-6c2f2cf9bb28",
   "metadata": {},
   "outputs": [],
   "source": [
    "df_api = df_api.drop(['ASIN','Review_Flag'], axis=1)"
   ]
  },
  {
   "cell_type": "code",
   "execution_count": null,
   "id": "d6385df8-f798-4d8b-aea3-e7c97b98b5f6",
   "metadata": {},
   "outputs": [],
   "source": [
    "df_api.info()"
   ]
  },
  {
   "cell_type": "code",
   "execution_count": null,
   "id": "5009ee41-b309-4b42-a233-2b060d1e2f63",
   "metadata": {},
   "outputs": [],
   "source": [
    "# 2. Remove duplicate rows. (Assuming duplicate rows have the same values in all columns.)\n",
    "df_api.drop_duplicates(inplace=True)"
   ]
  },
  {
   "cell_type": "code",
   "execution_count": null,
   "id": "cfd7a012-58e3-4687-8d57-f4c349f85626",
   "metadata": {},
   "outputs": [],
   "source": [
    "df_api = df_api.drop_duplicates(subset=['Book Title'], keep='first')"
   ]
  },
  {
   "cell_type": "code",
   "execution_count": null,
   "id": "d76bd45a-17b9-45ca-9f7a-e3cfe3cab8d9",
   "metadata": {},
   "outputs": [],
   "source": [
    "df_api"
   ]
  },
  {
   "cell_type": "code",
   "execution_count": null,
   "id": "4842be7f-3cce-4f3b-818f-55446b98903c",
   "metadata": {},
   "outputs": [],
   "source": [
    "# Rename columns in the Google file to match the GoodReads structure.\n",
    "# Adjust the mappings based on your actual column names.\n",
    "df_api.rename(columns={\n",
    "    'Book Title':'Title',\n",
    "    'Authors':'Author',\n",
    "    'Rating':'Avg_Rating',\n",
    "    'Number of Pages':'Page_Number' \n",
    "}, inplace=True)\n",
    "\n",
    "df_api"
   ]
  },
  {
   "cell_type": "code",
   "execution_count": null,
   "id": "9cbf472f-2438-43a4-a8fb-ccb63c9710f5",
   "metadata": {},
   "outputs": [],
   "source": [
    "# Add any missing columns to google_df with empty values so both DataFrames have the same columns.\n",
    "for col in df.columns:\n",
    "    if col not in df_api.columns:\n",
    "        df_api[col] = ''\n",
    "\n",
    "# Ensure both DataFrames have the same column order\n",
    "df_api = df_api[df.columns]"
   ]
  },
  {
   "cell_type": "code",
   "execution_count": null,
   "id": "7a004dd9-af7e-43e0-bdd1-4a23f6e3cee4",
   "metadata": {},
   "outputs": [],
   "source": [
    "df_api.info()"
   ]
  },
  {
   "cell_type": "code",
   "execution_count": null,
   "id": "3109d146-797b-4e8c-9267-1f2995bdc36a",
   "metadata": {},
   "outputs": [],
   "source": [
    "df_api['ISBN'] = pd.to_numeric(df_api['ISBN'], errors='coerce').astype('Int64')"
   ]
  },
  {
   "cell_type": "code",
   "execution_count": null,
   "id": "df15e044-ccfc-4eef-9671-4270d50d4715",
   "metadata": {},
   "outputs": [],
   "source": [
    "#Casting avg rating to float and page number to integer\n",
    "df_api['Rank'] = pd.to_numeric(df_api['Rank'], errors='coerce').astype('Int64')\n",
    "df_api['Num_Ratings'] = pd.to_numeric(df_api['Num_Ratings'], errors='coerce').astype('Int64')\n",
    "df_api['ISBN'] = df_api['ISBN'].astype('object')\n",
    "df_api['Page_Number'] = pd.to_numeric(df_api['Page_Number'], errors='coerce').astype('Int64')"
   ]
  },
  {
   "cell_type": "code",
   "execution_count": null,
   "id": "afca4a2d-d7e0-4cc0-9262-6c9bc5303293",
   "metadata": {},
   "outputs": [],
   "source": [
    "#Saving the Cleaned Separate Datasets Before Merge\n",
    "df_api.to_csv(\"../Data/Clean/Google_API_Clean.csv\")\n",
    "df.to_csv(\"../Data/Clean/GoodReads_Clean.csv\")"
   ]
  },
  {
   "cell_type": "code",
   "execution_count": null,
   "id": "9ddc6008-38a1-4291-ab0f-23691b072c0e",
   "metadata": {},
   "outputs": [],
   "source": [
    "# Concatenate the two DataFrames\n",
    "combined_df = pd.concat([df, df_api], ignore_index=True)\n",
    "\n",
    "# Save the combined DataFrame to a new CSV file\n",
    "combined_df.to_csv('combined_books.csv', index=False)"
   ]
  },
  {
   "cell_type": "code",
   "execution_count": null,
   "id": "a0028662-0923-4b24-bbbe-5e6bc0f9922b",
   "metadata": {},
   "outputs": [],
   "source": [
    "combined_df"
   ]
  },
  {
   "cell_type": "code",
   "execution_count": null,
   "id": "b46d0769-3193-4f84-8c06-636497635cd0",
   "metadata": {},
   "outputs": [],
   "source": [
    "combined_df = combined_df.drop_duplicates(subset=['ISBN'], keep='first')"
   ]
  },
  {
   "cell_type": "code",
   "execution_count": null,
   "id": "eecae03d-9b70-43f5-b5c7-f445442a5615",
   "metadata": {},
   "outputs": [],
   "source": [
    "combined_df.rename(columns={\n",
    "    'Rank':'Good_Reads_Popularity_Rank'\n",
    "}, inplace=True)"
   ]
  },
  {
   "cell_type": "code",
   "execution_count": null,
   "id": "6af05540-ab76-47eb-a1e5-e3bb986cb0fc",
   "metadata": {},
   "outputs": [],
   "source": [
    "combined_df.reset_index(drop=True,inplace=True)"
   ]
  },
  {
   "cell_type": "code",
   "execution_count": null,
   "id": "d6b79d2c-fa42-4802-84f5-a1f619a5f644",
   "metadata": {},
   "outputs": [],
   "source": [
    "#Saving the final dataset\n",
    "combined_df.to_csv(\"../Data/Clean/Combined_Book_Data.csv\")"
   ]
  },
  {
   "cell_type": "code",
   "execution_count": null,
   "id": "282c522c-df1f-4061-9954-9cc9adc48024",
   "metadata": {},
   "outputs": [],
   "source": []
  }
 ],
 "metadata": {
  "kernelspec": {
   "display_name": "Python [conda env:base] *",
   "language": "python",
   "name": "conda-base-py"
  },
  "language_info": {
   "codemirror_mode": {
    "name": "ipython",
    "version": 3
   },
   "file_extension": ".py",
   "mimetype": "text/x-python",
   "name": "python",
   "nbconvert_exporter": "python",
   "pygments_lexer": "ipython3",
   "version": "3.12.2"
  }
 },
 "nbformat": 4,
 "nbformat_minor": 5
}
