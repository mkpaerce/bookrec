{
 "cells": [
  {
   "cell_type": "markdown",
   "metadata": {},
   "source": [
    "# Book Cover Fetcher"
   ]
  },
  {
   "cell_type": "code",
   "execution_count": null,
   "metadata": {},
   "outputs": [],
   "source": [
    "# Install required packages\n",
    "!pip install requests\n",
    "!pip install python-dotenv"
   ]
  },
  {
   "cell_type": "code",
   "execution_count": 1,
   "metadata": {},
   "outputs": [],
   "source": [
    "import os\n",
    "from dotenv import load_dotenv\n",
    "import requests\n",
    "from IPython.display import display, HTML, Markdown"
   ]
  },
  {
   "cell_type": "code",
   "execution_count": 7,
   "metadata": {},
   "outputs": [],
   "source": [
    "load_dotenv()\n",
    "KEY = os.getenv(\"GOOGLE_BOOKS_API_KEY\")\n",
    "\n",
    "def fetch_book_info(title, api_key=None):\n",
    "    params = {\n",
    "        'q': title,\n",
    "        'maxResults': 1,\n",
    "        'printType': 'books',\n",
    "        'langRestrict': 'en'\n",
    "    }\n",
    "    if api_key:\n",
    "        params['key'] = api_key\n",
    "\n",
    "    response = requests.get('https://www.googleapis.com/books/v1/volumes', params=params)\n",
    "    data = response.json()\n",
    "\n",
    "    try:\n",
    "        item = data['items'][0]['volumeInfo']\n",
    "        thumbnail = item.get('imageLinks', {}).get('thumbnail')\n",
    "        description = item.get('description', 'No description available.')\n",
    "        return thumbnail, description\n",
    "    except (KeyError, IndexError):\n",
    "        return None, \"No information found.\"\n",
    "\n",
    "def display_book_info(title, thumbnail, description):\n",
    "    if thumbnail:\n",
    "        display(HTML(f\"\"\"\n",
    "            <h3>{title}</h3>\n",
    "            <img src=\"{thumbnail}\" alt=\"Cover for {title}\" width=\"150\"/>\n",
    "            <p><b>Description:</b> {description}</p>\n",
    "        \"\"\"))\n",
    "    else:\n",
    "        display(Markdown(f\"### {title}\\n_No cover image available._\\n\\n{description}\"))"
   ]
  },
  {
   "cell_type": "code",
   "execution_count": 9,
   "metadata": {},
   "outputs": [
    {
     "data": {
      "text/html": [
       "\n",
       "            <h3>The Alchemist</h3>\n",
       "            <img src=\"http://books.google.com/books/content?id=2kWoPwAACAAJ&printsec=frontcover&img=1&zoom=1&source=gbs_api\" alt=\"Cover for The Alchemist\" width=\"150\"/>\n",
       "            <p><b>Description:</b> No description available.</p>\n",
       "        "
      ],
      "text/plain": [
       "<IPython.core.display.HTML object>"
      ]
     },
     "metadata": {},
     "output_type": "display_data"
    },
    {
     "data": {
      "text/html": [
       "\n",
       "            <h3>1984</h3>\n",
       "            <img src=\"http://books.google.com/books/content?id=H8Y1EQAAQBAJ&printsec=frontcover&img=1&zoom=1&edge=curl&source=gbs_api\" alt=\"Cover for 1984\" width=\"150\"/>\n",
       "            <p><b>Description:</b> «La guerra es paz. La libertad es esclavitud. La ignorancia es fuerza». Corre el año 1984 y la guerra y la Revolución han dejado el mundo irreconocible. La sociedad está gobernada por el Partido, bajo el liderazgo del Hermano Mayor. La vigilancia masiva lo es todo y la Policía del Pensamiento garantiza que no se permita ningún razonamiento individual. Atraído por una aventura amorosa, Winston Smith encuentra el valor para unirse a una organización revolucionaria clandestina llamada la Hermandad, cuyo objetivo es la destrucción del régimen. Pero Winston y su amada Julia se verán enfrentados a las consecuencias de su decisión, y arrojados a lo más profundo del horror y el miedo. Pocos libros han conseguido una influencia tan dominante en la cultura popular como 1984, y hoy día sigue vigente su inquietante advertencia contra el totalitarismo.</p>\n",
       "        "
      ],
      "text/plain": [
       "<IPython.core.display.HTML object>"
      ]
     },
     "metadata": {},
     "output_type": "display_data"
    },
    {
     "data": {
      "text/html": [
       "\n",
       "            <h3>To Kill a Mockingbird</h3>\n",
       "            <img src=\"http://books.google.com/books/content?id=AYl1DwAAQBAJ&printsec=frontcover&img=1&zoom=1&edge=curl&source=gbs_api\" alt=\"Cover for To Kill a Mockingbird\" width=\"150\"/>\n",
       "            <p><b>Description:</b> Uno de los grandes clásicos cabecera del siglo XX adaptada a novela gráfica. « Uno es valiente cuando, sabiendo que la batalla está perdida, lo intenta a pesar de todo y lucha hasta el final, pase lo que pase. Uno gana raras veces, pero alguna vez gana.» Matar a un ruiseñor es una de esas historias inmortales que se te pegan al corazón y te sacuden la conciencia. Es la historia de dos hermanos que aprenden a ver el mundo con otros ojos; también es la historia del padre que todos querríamos tener: Atticus Finch. Un hombre de valentía insobornable que defiende hasta el final la idea de que ser diferente no significa indefectiblemente ser culpable. Un poderoso mensaje retratado con una ternura punzante que ha conquistado a 40 millones de lectores en todo el mundo y que ha traspasado, generación tras generación, las barreras de la edad y el tiempo. Esta novela gráfica, que captura magistralmente la esencia del gran clásico, nos brinda una nueva oportunidad para volver a creer en la justicia.</p>\n",
       "        "
      ],
      "text/plain": [
       "<IPython.core.display.HTML object>"
      ]
     },
     "metadata": {},
     "output_type": "display_data"
    }
   ],
   "source": [
    "titles = [\"The Alchemist\", \"1984\", \"To Kill a Mockingbird\"]\n",
    "\n",
    "for title in titles:\n",
    "    thumbnail, description = fetch_book_info(title, api_key=KEY)\n",
    "    display_book_info(title, thumbnail, description)"
   ]
  },
  {
   "cell_type": "code",
   "execution_count": null,
   "metadata": {},
   "outputs": [],
   "source": []
  }
 ],
 "metadata": {
  "kernelspec": {
   "display_name": "Python [conda env:base] *",
   "language": "python",
   "name": "conda-base-py"
  },
  "language_info": {
   "codemirror_mode": {
    "name": "ipython",
    "version": 3
   },
   "file_extension": ".py",
   "mimetype": "text/x-python",
   "name": "python",
   "nbconvert_exporter": "python",
   "pygments_lexer": "ipython3",
   "version": "3.12.2"
  }
 },
 "nbformat": 4,
 "nbformat_minor": 4
}
